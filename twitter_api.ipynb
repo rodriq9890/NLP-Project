{
 "cells": [
  {
   "cell_type": "code",
   "execution_count": 38,
   "metadata": {},
   "outputs": [
    {
     "ename": "NameError",
     "evalue": "name 'Consumer_Key' is not defined",
     "output_type": "error",
     "traceback": [
      "\u001b[1;31m---------------------------------------------------------------------------\u001b[0m",
      "\u001b[1;31mNameError\u001b[0m                                 Traceback (most recent call last)",
      "\u001b[1;32m<ipython-input-38-2f9e038ba335>\u001b[0m in \u001b[0;36m<module>\u001b[1;34m\u001b[0m\n\u001b[0;32m     14\u001b[0m \u001b[0mcongressmen_list\u001b[0m \u001b[1;33m=\u001b[0m \u001b[0mlist\u001b[0m\u001b[1;33m(\u001b[0m\u001b[0mdf\u001b[0m\u001b[1;33m[\u001b[0m\u001b[1;34m'personal_twitter'\u001b[0m\u001b[1;33m]\u001b[0m\u001b[1;33m)\u001b[0m\u001b[1;33m\u001b[0m\u001b[1;33m\u001b[0m\u001b[0m\n\u001b[0;32m     15\u001b[0m \u001b[1;33m\u001b[0m\u001b[0m\n\u001b[1;32m---> 16\u001b[1;33m \u001b[0mauth\u001b[0m \u001b[1;33m=\u001b[0m \u001b[0mtweepy\u001b[0m\u001b[1;33m.\u001b[0m\u001b[0mOAuthHandler\u001b[0m\u001b[1;33m(\u001b[0m\u001b[0mConsumer_Key\u001b[0m\u001b[1;33m,\u001b[0m \u001b[0mConsumer_Secret_Key\u001b[0m\u001b[1;33m)\u001b[0m\u001b[1;33m\u001b[0m\u001b[1;33m\u001b[0m\u001b[0m\n\u001b[0m\u001b[0;32m     17\u001b[0m \u001b[0mauth\u001b[0m\u001b[1;33m.\u001b[0m\u001b[0mset_access_token\u001b[0m\u001b[1;33m(\u001b[0m\u001b[0mAccess_Key\u001b[0m\u001b[1;33m,\u001b[0m \u001b[0mAccess_Secret_Key\u001b[0m\u001b[1;33m)\u001b[0m\u001b[1;33m\u001b[0m\u001b[1;33m\u001b[0m\u001b[0m\n\u001b[0;32m     18\u001b[0m \u001b[0mapi\u001b[0m \u001b[1;33m=\u001b[0m \u001b[0mtweepy\u001b[0m\u001b[1;33m.\u001b[0m\u001b[0mAPI\u001b[0m\u001b[1;33m(\u001b[0m\u001b[0mauth\u001b[0m\u001b[1;33m,\u001b[0m \u001b[0mwait_on_rate_limit\u001b[0m\u001b[1;33m=\u001b[0m\u001b[1;32mTrue\u001b[0m\u001b[1;33m)\u001b[0m\u001b[1;33m\u001b[0m\u001b[1;33m\u001b[0m\u001b[0m\n",
      "\u001b[1;31mNameError\u001b[0m: name 'Consumer_Key' is not defined"
     ]
    }
   ],
   "source": [
    "import tweepy\n",
    "import csv\n",
    "import pandas as pd\n",
    "import numpy as np\n",
    "import string\n",
    "\n",
    "df = pd.read_csv('project_data.csv')\n",
    "\n",
    "# Make personal_twitter handles of those who have an empty cell into the value held in the official_twitter column\n",
    "df.loc[df['personal_twitter'].isnull(),'personal_twitter'] = df['official_twitter']\n",
    "# We'll drop any congressman/woman who doesn't have niether a personal nor official twitter (Andrew S. Clyde)\n",
    "df.dropna(subset=['personal_twitter'], inplace=True)\n",
    "\n",
    "congressmen_list = list(df['personal_twitter'])\n",
    "\n",
    "auth = tweepy.OAuthHandler(Consumer_Key, Consumer_Secret_Key)\n",
    "auth.set_access_token(Access_Key, Access_Secret_Key)\n",
    "api = tweepy.API(auth, wait_on_rate_limit=True)\n",
    "\n",
    "def create_csv(filename, usernames):\n",
    "    csvfile = open(filename, 'w')\n",
    "    c = csv.writer(csvfile)\n",
    "    c.writerow([ \"Bio\", 'Follower Count' ])\n",
    "    for name in usernames:\n",
    "        user_info = get_userinfo(name)\n",
    "        c.writerow(user_info)\n",
    "    csvfile.close()\n",
    "\n",
    "def get_userinfo(name):\n",
    "    try:\n",
    "        user = api.get_user(screen_name = name)\n",
    "        user_info = [user.description.encode('utf-8'), user.followers_count]\n",
    "        return user_info\n",
    "    except:\n",
    "        user_info = ['', np.NaN]\n",
    "        return user_info"
   ]
  },
  {
   "cell_type": "code",
   "execution_count": 2,
   "metadata": {},
   "outputs": [],
   "source": [
    "create_csv('congressmen_descriptions.csv', congressmen_list)"
   ]
  },
  {
   "cell_type": "code",
   "execution_count": 39,
   "metadata": {},
   "outputs": [],
   "source": [
    "descriptions = pd.read_csv('congressmen_descriptions.csv')\n",
    "descriptions['Bio'] = descriptions['Bio'].str[2:-1]\n",
    "df = df.reset_index()\n",
    "descriptions['names'] = df['full_name']\n",
    "result = pd.concat([df, descriptions], axis=1)"
   ]
  },
  {
   "cell_type": "code",
   "execution_count": 41,
   "metadata": {},
   "outputs": [],
   "source": [
    "punc = string.punctuation.replace('-', '').replace('/', '')\n",
    "del result['index']\n",
    "del result['names']\n",
    "result['Bio'] = result['Bio'].str.replace('[{}]'.format(punc), ' ').str.lower()\n",
    "result.to_csv('project_data_complete.csv')"
   ]
  },
  {
   "cell_type": "code",
   "execution_count": null,
   "metadata": {},
   "outputs": [],
   "source": []
  }
 ],
 "metadata": {
  "kernelspec": {
   "display_name": "Python 3",
   "language": "python",
   "name": "python3"
  },
  "language_info": {
   "codemirror_mode": {
    "name": "ipython",
    "version": 3
   },
   "file_extension": ".py",
   "mimetype": "text/x-python",
   "name": "python",
   "nbconvert_exporter": "python",
   "pygments_lexer": "ipython3",
   "version": "3.8.5"
  }
 },
 "nbformat": 4,
 "nbformat_minor": 4
}
